{
 "cells": [
  {
   "cell_type": "markdown",
   "id": "f69c1157",
   "metadata": {},
   "source": [
    "In this notebook, we determine what fraction of events of a particular reaction have muon that enters the detector,\n",
    "making the simplifying assumption that there is a uniform distribution of the particles' kinematics in the available phase space.\n",
    "The reaction is $e p \\rightarrow e'D_0\\Lambda_c^+$ followed by $\\Lambda_c^+\\rightarrow\\Lambda^0\\bar\\nu_\\mu\\mu^+$.  In principle,\n",
    "the code used in this simplified event generator could be used for other reactions as well.  \n",
    "\n",
    "The generation of three-particle events follows Phys. Rev. D 86, 114023 (2012) https://arxiv.org/abs/1210.7939 .  "
   ]
  },
  {
   "cell_type": "code",
   "execution_count": 1,
   "id": "3c5718a5-6116-4e6e-8c08-cda61c251a18",
   "metadata": {},
   "outputs": [
    {
     "name": "stdout",
     "output_type": "stream",
     "text": [
      "Welcome to JupyROOT 6.26/06\n"
     ]
    }
   ],
   "source": [
    "import ROOT, numpy as np, random, pandas as pd\n",
    "rand = random.Random()\n",
    "import matplotlib.pylab as plt\n",
    "import matplotlib as mpl\n",
    "import matplotlib.patches as patches\n",
    "\n",
    "plt.rcParams[\"figure.figsize\"] = [7.00, 5.00]\n",
    "#presets for plot style\n",
    "#from scipy.constants import golden\n",
    "rc = plt.rc\n",
    "rc('text', usetex=False)\n",
    "rc('font', family='serif')\n",
    "rc('text', usetex=False)\n",
    "rc('font', size=16)\n",
    "rc('xtick', labelsize=16)\n",
    "rc('ytick', labelsize=16)\n",
    "rc('axes', labelsize=16)\n",
    "rc('legend', fontsize=16)\n",
    "\n",
    "plt.rcParams['figure.facecolor']='white'\n",
    "plt.rcParams['savefig.facecolor']='white'\n",
    "plt.rcParams['savefig.bbox']='tight'\n",
    "\n",
    "pdg = ROOT.TDatabasePDG()"
   ]
  },
  {
   "cell_type": "code",
   "execution_count": 2,
   "id": "36d24efe",
   "metadata": {},
   "outputs": [],
   "source": [
    "class oneToTwoGenerator():\n",
    "    def __init__(self, m0, m1, m2):\n",
    "        self.m1 = m1\n",
    "        self.m2 = m2\n",
    "        self.m0 = m0\n",
    "        self.p = np.sqrt(m1**4+m2**4+m0**4-2*m1**2*m0**2-2*m1**2*m2**2-2*m0**2*m2**2)/(2*m0)\n",
    "        self.E1 = np.hypot(m1, self.p) \n",
    "        self.E2 = np.hypot(m2, self.p)\n",
    "    \n",
    "    def next(self, P0):\n",
    "        phi=rand.uniform(-np.pi, np.pi)\n",
    "        cosTheta=rand.uniform(-1,1)\n",
    "        sinTheta=np.sqrt(1-cosTheta**2)\n",
    "        \n",
    "        p = self.p\n",
    "        P1 = ROOT.TLorentzVector(p*np.cos(phi)*sinTheta, p*np.sin(phi)*sinTheta, p*cosTheta, self.E1)\n",
    "        P2 = ROOT.TLorentzVector(-p*np.cos(phi)*sinTheta, -p*np.sin(phi)*sinTheta, -p*cosTheta, self.E2)\n",
    "        beta = P0.BoostVector()\n",
    "        P1.Boost(beta)\n",
    "        P2.Boost(beta)\n",
    "        #print((P0-P1-P2).M())\n",
    "        #print((P0-P1-P2).E())\n",
    "        return P1,P2"
   ]
  },
  {
   "cell_type": "markdown",
   "id": "15b4e124",
   "metadata": {},
   "source": [
    " Use the formulas found here to get the 3-particle phase space:  Phys. Rev. D 86, 114023 (2012) https://arxiv.org/abs/1210.7939 "
   ]
  },
  {
   "cell_type": "code",
   "execution_count": 3,
   "id": "1ca6e443",
   "metadata": {},
   "outputs": [],
   "source": [
    "class oneToThreeGenerator():\n",
    "    def __init__(self, m0, m1, m2, m3):\n",
    "        self.m0 = m0\n",
    "        self.x1 = (m1/self.m0)**2\n",
    "        self.x2 = (m2/self.m0)**2\n",
    "        self.x3 = (m3/self.m0)**2\n",
    "        \n",
    "        self.s13_min = (np.sqrt(self.x1)+np.sqrt(self.x3))**2\n",
    "        self.s13_max =(1-np.sqrt(self.x2))**2\n",
    "        print(\"s13 range:\", self.s13_min, self.s13_max)\n",
    "        self.s13s =np.linspace(self.s13_min,self.s13_max, 1024+2)[1:-1]\n",
    "        self.pdf = np.sqrt(((1+self.x2-self.s13s)**2-4*self.x2)*((self.x1+self.x3-self.s13s)**2-4*self.x1*self.x3))/self.s13s\n",
    "        self.pdf /= np.sum(self.pdf)\n",
    "        self.cdf = [self.pdf[0]]\n",
    "        for i in range(1,len(self.pdf)):\n",
    "            self.cdf.append(self.cdf[-1]+self.pdf[i])\n",
    "        \n",
    "    def next(self, P0,search=\"binary\"):\n",
    "        \n",
    "        #these are for particle 2:\n",
    "        phi=rand.uniform(-np.pi, np.pi)\n",
    "        cosTheta=rand.uniform(-1,1)\n",
    "        sinTheta=np.sqrt(1-cosTheta**2)\n",
    "\n",
    "        #pdf of s13 is sqrt(((1+x2-s12)^2-4x^2)((x1+x3-s13)^2-4*x1*x3))/s13\n",
    "\n",
    "        u = rand.uniform(0, 1)\n",
    "        psum = 0\n",
    "        s13= (self.s13_min+self.s13_max)/2\n",
    "        if search == \"linear\":\n",
    "            found=False\n",
    "            for i in range(len(self.cdf)):\n",
    "                if(self.cdf[i]>u):\n",
    "                    s13=self.s13s[i]\n",
    "                    found = True\n",
    "                    break\n",
    "            if not found:\n",
    "                raise Exception(\"s13 not found in table\")\n",
    "        #perform binary search\n",
    "        if search == \"binary\":\n",
    "            i=512\n",
    "            di=256\n",
    "            while di >=1:\n",
    "                if (u> self.cdf[i]):\n",
    "                    i+=di\n",
    "                else :\n",
    "                    i -=di\n",
    "                di=di//2\n",
    "            s13=self.s13s[i]\n",
    "\n",
    "\n",
    "        p2 = np.sqrt(s13**2 + self.x2**2+1 - 2*s13 - 2*s13*self.x2 - 2*self.x2)/2\n",
    "        P2 = ROOT.TLorentzVector(p2*np.cos(phi)*sinTheta, p2*np.sin(phi)*sinTheta, p2*cosTheta, np.sqrt(self.x2+p2**2))\n",
    "\n",
    "\n",
    "        p = np.sqrt(s13**2 + self.x3**2 + self.x1**2 - 2*self.x1*self.x3 - 2*s13*self.x3 - 2*s13*self.x1)/(2*np.sqrt(s13))\n",
    "\n",
    "        #these are for particles 1, 3\n",
    "        phi=rand.uniform(-np.pi, np.pi)\n",
    "        cosTheta=rand.uniform(-1,1)\n",
    "        sinTheta=np.sqrt(1-cosTheta**2)\n",
    "\n",
    "        P1 = ROOT.TLorentzVector(p*np.cos(phi)*sinTheta, p*np.sin(phi)*sinTheta, p*cosTheta, np.sqrt(self.x1+p**2))\n",
    "        P3 = ROOT.TLorentzVector(-p*np.cos(phi)*sinTheta, -p*np.sin(phi)*sinTheta, -p*cosTheta, np.sqrt(self.x3+p**2))\n",
    "\n",
    "\n",
    "        boost = P2.Vect()#*(-1/np.sqrt(p2**2+s13))\n",
    "        boost*=(-1/np.sqrt(p2**2+s13))\n",
    "\n",
    "        P1.Boost(boost)\n",
    "        P3.Boost(boost)\n",
    "\n",
    "        beta = P0.BoostVector()\n",
    "        P1.Boost(beta)\n",
    "        P2.Boost(beta)\n",
    "        P3.Boost(beta)\n",
    "        #print((P0-P1-P2).M())\n",
    "        #print((P0-P1-P2).E())\n",
    "        return P1*self.m0,P2*self.m0,P3*self.m0"
   ]
  },
  {
   "cell_type": "code",
   "execution_count": 4,
   "id": "ced018f2",
   "metadata": {},
   "outputs": [],
   "source": [
    "#similar to the oneToThreeGenerator, except with a delta function on Q^2 = (P2-P0)^2, where P2 is the scattered electron\n",
    "class PhotoproductionGenerator():\n",
    "    def __init__(self, m0, m1, m2, m3):\n",
    "        self.m0 = m0\n",
    "        self.x1 = (m1/self.m0)**2\n",
    "        self.x2 = (m2/self.m0)**2\n",
    "        self.x3 = (m3/self.m0)**2\n",
    "        \n",
    "        self.s13_min = (np.sqrt(self.x1)+np.sqrt(self.x3))**2\n",
    "        self.s13_max =(1-np.sqrt(self.x2))**2\n",
    "        print(\"s13 range:\", self.s13_min, self.s13_max)\n",
    "        self.s13s =np.linspace(self.s13_min,self.s13_max, 1024+2)[1:-1]\n",
    "        \n",
    "        #pdf of s13 is sqrt(((1+x2-s12)^2-4x^2)((x1+x3-s13)^2-4*x1*x3))/s13 for non-photoproduction\n",
    "        self.pdf = np.sqrt(((1+self.x2-self.s13s)**2-4*self.x2)*((self.x1+self.x3-self.s13s)**2-4*self.x1*self.x3))/self.s13s\n",
    "        #multiply by an additional factor of 1/p2_cm because of the delta function on Q2.\n",
    "        p2 = (1-self.s13s)/2\n",
    "        self.pdf/=p2\n",
    "        \n",
    "        self.pdf /= np.sum(self.pdf)\n",
    "        self.cdf = [self.pdf[0]]\n",
    "        for i in range(1,len(self.pdf)):\n",
    "            self.cdf.append(self.cdf[-1]+self.pdf[i])\n",
    "        \n",
    "    def next(self, P0,search=\"binary\"):\n",
    "        \n",
    "        #these are for particle 2:\n",
    "        phi=0\n",
    "        cosTheta=1 #electron is going in the forward direction, since Q^2 goes to zero\n",
    "        sinTheta=0\n",
    "\n",
    "        \n",
    "\n",
    "        u = rand.uniform(0, 1)\n",
    "        psum = 0\n",
    "        s13= (self.s13_min+self.s13_max)/2\n",
    "        if search == \"linear\":\n",
    "            found=False\n",
    "            for i in range(len(self.cdf)):\n",
    "                if(self.cdf[i]>u):\n",
    "                    s13=self.s13s[i]\n",
    "                    found = True\n",
    "                    break\n",
    "            if not found:\n",
    "                raise Exception(\"s13 not found in table\")\n",
    "        #perform binary search\n",
    "        if search == \"binary\":\n",
    "            i=512\n",
    "            di=256\n",
    "            while di >=1:\n",
    "                if (u> self.cdf[i]):\n",
    "                    i+=di\n",
    "                else :\n",
    "                    i -=di\n",
    "                di=di//2\n",
    "            s13=self.s13s[i]\n",
    "\n",
    "\n",
    "        p2 = np.sqrt(s13**2 + self.x2**2+1 - 2*s13 - 2*s13*self.x2 - 2*self.x2)/2\n",
    "        P2 = ROOT.TLorentzVector(p2*np.cos(phi)*sinTheta, p2*np.sin(phi)*sinTheta, p2*cosTheta, np.sqrt(self.x2+p2**2))\n",
    "\n",
    "\n",
    "        p = np.sqrt(s13**2 + self.x3**2 + self.x1**2 - 2*self.x1*self.x3 - 2*s13*self.x3 - 2*s13*self.x1)/(2*np.sqrt(s13))\n",
    "\n",
    "        #these are for particles 1, 3\n",
    "        phi=rand.uniform(-np.pi, np.pi)\n",
    "        cosTheta=rand.uniform(-1,1)\n",
    "        sinTheta=np.sqrt(1-cosTheta**2)\n",
    "\n",
    "        P1 = ROOT.TLorentzVector(p*np.cos(phi)*sinTheta, p*np.sin(phi)*sinTheta, p*cosTheta, np.sqrt(self.x1+p**2))\n",
    "        P3 = ROOT.TLorentzVector(-p*np.cos(phi)*sinTheta, -p*np.sin(phi)*sinTheta, -p*cosTheta, np.sqrt(self.x3+p**2))\n",
    "\n",
    "\n",
    "        boost = P2.Vect()#*(-1/np.sqrt(p2**2+s13))\n",
    "        boost*=(-1/np.sqrt(p2**2+s13))\n",
    "\n",
    "        P1.Boost(boost)\n",
    "        P3.Boost(boost)\n",
    "\n",
    "        beta = P0.BoostVector()\n",
    "        P1.Boost(beta)\n",
    "        P2.Boost(beta)\n",
    "        P3.Boost(beta)\n",
    "        #print((P0-P1-P2).M())\n",
    "        #print((P0-P1-P2).E())\n",
    "        return P1*self.m0,P2*self.m0,P3*self.m0"
   ]
  },
  {
   "cell_type": "markdown",
   "id": "2ef18d48",
   "metadata": {},
   "source": [
    "### User Inputs and constants"
   ]
  },
  {
   "cell_type": "code",
   "execution_count": 18,
   "id": "973453a4",
   "metadata": {},
   "outputs": [
    {
     "name": "stdout",
     "output_type": "stream",
     "text": [
      "s13 range: 0.8765135611827901 0.9997694398246769\n",
      "s13 range: 0.2857388855110227 1.0\n",
      "s13 range: 0.2996126170503792 0.8815392833362078\n",
      "s13 range: 0.4961031795779794 0.6118643776935416\n",
      "s13 range: 0.39564590009832684 0.8815392833362078\n"
     ]
    }
   ],
   "source": [
    "Ebeam=10 #GeV\n",
    "\n",
    "mp=.9383\n",
    "mn=.9396\n",
    "mD0=1.86484\n",
    "mLambdaC=2.2849\n",
    "mLambda=1.115683\n",
    "me=0.000511\n",
    "mMu=0.1057\n",
    "mpi_charged = 0.1396\n",
    "mpi0 = 0.1350\n",
    "mK0=0.497611\n",
    "mKshort=mK0\n",
    "mK_charged=0.493677\n",
    "mrho0=0.77549\n",
    "mrho_charged=0.77526\n",
    "mSigma0=1.192642\n",
    "mSigmaP=1.18937\n",
    "mSigmaN=mSigmaP\n",
    "\n",
    "stot = (Ebeam+mp)**2-Ebeam**2\n",
    "x1 = mD0**2/stot\n",
    "x2 = 0.000511**2/stot\n",
    "x3 = mLambdaC**2/stot\n",
    "\n",
    "P0=ROOT.TLorentzVector(0, 0, Ebeam,Ebeam+mp)\n",
    "#DIS Event Generator\n",
    "#ep_to_d0_e_lambdac= oneToThreeGenerator(P0.M(), mD0, me, mLambdaC)\n",
    "ep_to_d0_e_lambdac= PhotoproductionGenerator(P0.M(), mD0, me, mLambdaC)\n",
    "\n",
    "#Decay generators; decays for the lambda_c taken from \n",
    "#https://pdglive.lbl.gov/Particle.action?init=0&node=S033&home=BXXX040\n",
    "\n",
    "#lambda_c -> muon + X modes\n",
    "lambdac_to_lambdamu = oneToThreeGenerator(mLambdaC, mLambda, 0, mMu) #BR= 3.5e-2 +- 0.5e-2\n",
    "f_lambdac_to_lambdamu = 0.035\n",
    "f_lambdac_to_lambdamu_unc = 0.005\n",
    "\n",
    "#lambda_c -> n + X modes\n",
    "lambdac_to_nKspi = oneToThreeGenerator(mLambdaC, mn, mpi_charged, mKshort)\n",
    "f_lambdac_to_nKspi = 0.0182\n",
    "f_lambdac_to_nKspi_unc = 0.0025\n",
    "#secondary K_s decay\n",
    "Kshort_to_picharged = oneToTwoGenerator(mKshort,mpi_charged,mpi_charged)\n",
    "Kshort_to_picharged = 0.692\n",
    "Kshort_to_picharged_unc = 0.0005\n",
    "Kshort_to_pi0 = oneToTwoGenerator(mKshort,mpi0,mpi0)\n",
    "Kshort_to_pi0 = 0.307\n",
    "Kshort_to_pi0_unc = 0.0005\n",
    "\n",
    "#lambda_c -> p + X modes\n",
    "\n",
    "#lambda -> n/p + X intermediate resonance\n",
    "f_lambdac_lambda=.382 #inclusive lambda_c -> lambda + X\n",
    "lambdac_to_lambdapi = oneToTwoGenerator(mLambdaC, mLambda, mpi_charged) #BR= 1.3e-2 +- 0.07e-2\n",
    "f_lambdac_to_lambdapi = 0.013\n",
    "f_lambdac_to_lambdapi_unc = 0.0007\n",
    "lambdac_to_lambdapipi0 = oneToThreeGenerator(mLambdaC, mLambda, mpi_charged, mpi0) #BR= 7.1e-2 +- 0.4e-2 (includes intermediate rho state, <6%)\n",
    "f_lambdac_to_lambdapipi0 = 0.011\n",
    "f_lambdac_to_lambdapipi0_unc = 0.004\n",
    "lambdac_to_lambdarho = oneToTwoGenerator(mLambdaC, mLambda, mrho_charged) #BR= 7.1e-2 +- 0.4e-2 (includes intermediate rho state, <6%)\n",
    "f_lambdac_to_lambdarho = 0.06\n",
    "f_lambdac_to_lambdarho_unc = 0.03\n",
    "lambdac_to_lambdaKK0 = oneToThreeGenerator(mLambdaC, mLambda, mK0, mK_charged) #BR= 0.57e-2 +- 0.11e-2\n",
    "f_lambdac_to_lambdaKK0 = 0.0057\n",
    "f_lambdac_to_lambdaKK0_unc = 0.0011\n",
    "lambdac_to_lambdarhopi = oneToThreeGenerator(mLambdaC, mLambda, mrho0, mpi_charged) #BR= 0.57e-2 +- 0.11e-2\n",
    "f_lambdac_to_lambdarhopi = 0.015\n",
    "f_lambdac_to_lambdarhopi_unc = 0.006\n",
    "#lambdac_to_lambda3pi = needs 1-4 generator #BR= 3.64e-2 +- 0.29e-2 (includes intermediate states) BR<1.1e-2 (nonresonant)\n",
    "#secondary lambda decay\n",
    "lambda_to_npi = oneToTwoGenerator(mLambda, mn, mpi0)\n",
    "f_lambda_to_npi=.36\n",
    "lambda_to_ppi = oneToTwoGenerator(mLambda, mp, mpi_charged)\n",
    "f_lambda_to_ppi=.64\n",
    "#secondary rho_charged decay\n",
    "rho_to_pipi0 = oneToTwoGenerator(mrho_charged, mpi0, mpi_charged)\n",
    "f_rho_to_pipi0=.995\n",
    "rho_to_pi0pi0 = oneToTwoGenerator(mrho0, mpi_charged, mpi_charged)\n",
    "f_rho_to_pipi=.99\n",
    "\n",
    "#SigmaP -> n/p + X intermediate resonance\n",
    "lambdac_to_SigmaPpi0 = oneToTwoGenerator(mLambdaC, mSigma, mpi0) #BR= 0.57e-2 +- 0.11e-2\n",
    "f_lambdac_to_SigmaPpi0 = 0.0125\n",
    "f_lambdac_to_SigmaPpi0_unc = 0.001\n",
    "#secondary SimgaP decay\n",
    "SigmaP_to_ppi0 = oneToTwoGenerator(mSigmaP, mp, mpi0) #BR= 0.57e-2 +- 0.11e-2\n",
    "f_SigmaP_to_ppi0 = 0.5157\n",
    "f_SigmaP_to_ppi0_unc = 0.003\n",
    "SigmaP_to_npi = oneToTwoGenerator(mSigmaP, mn, mpi_charged) #BR= 0.57e-2 +- 0.11e-2\n",
    "f_SigmaP_to_npi = 0.4831\n",
    "f_SigmaP_to_npi_unc = 0.003\n",
    "SigmaP_to_pgamma = oneToTwoGenerator(mSigmaP, mp, 0) #BR= 0.57e-2 +- 0.11e-2\n",
    "f_SigmaP_to_npi = 0.00123\n",
    "f_SigmaP_to_npi_unc = 0.0005\n",
    "\n",
    "#SigmaN -> n/p + X intermediate resonance\n",
    "lambdac_to_ = oneToTwoGenerator(mLambdaC, mSigmaN, mn, mpi_charged)\n",
    "f_lambdac_to_ = \n",
    "f_lambdac_to_ = \n",
    "#secondary SimgaN decay\n",
    "SigmaN_to_npi = oneToTwoGenerator(mSigmaN, mn, mpi0) #BR= 0.57e-2 +- 0.11e-2\n",
    "f_SigmaN_to_npi = 0.99848\n",
    "f_SigmaN_to_npi_unc = 0.001\n",
    "SigmaN_to_npi = oneToThreeGenerator(mSigmaN, mn, me, 0) #BR= 0.57e-2 +- 0.11e-2\n",
    "f_SigmaN_to_npi = 0.001017\n",
    "f_SigmaN_to_npi_unc = 0.00034\n",
    "\n",
    "#sigma0 -> n/p + X intermediate resonance\n",
    "lambdac_to_Sigma0pi = oneToTwoGenerator(mLambdaC, mSigma0, mpi_charged) #BR= 0.57e-2 +- 0.11e-2\n",
    "f_lambdac_to_Sigma0pi = 0.0129\n",
    "f_lambdac_to_Sigma0pi_unc = 0.0007\n",
    "#secondary simga0 decay"
   ]
  },
  {
   "cell_type": "code",
   "execution_count": 12,
   "id": "9c61af0f",
   "metadata": {},
   "outputs": [
    {
     "name": "stdout",
     "output_type": "stream",
     "text": [
      "the following should be zero\n",
      "(P0-P1-P2-P3).P() 0.0\n",
      "(P0-P1-P2-P3).E() -8.881784197001252e-16\n",
      "P1.M()-mD0 8.881784197001252e-16\n",
      "P2.M()-me -2.8214247344698906e-13\n",
      "P3.M()-mLambdaC 8.881784197001252e-16\n"
     ]
    }
   ],
   "source": [
    "#now test the functions\n",
    "P1, P2, P3 = ep_to_d0_e_lambdac.next(P0)\n",
    "print(\"the following should be zero\")\n",
    "print(\"(P0-P1-P2-P3).P()\", (P0-P1-P2-P3).P())\n",
    "print(\"(P0-P1-P2-P3).E()\", (P0-P1-P2-P3).E())\n",
    "print(\"P1.M()-mD0\", P1.M()-mD0)\n",
    "print(\"P2.M()-me\", P2.M()-me)\n",
    "print(\"P3.M()-mLambdaC\", P3.M()-mLambdaC)"
   ]
  },
  {
   "cell_type": "code",
   "execution_count": 15,
   "id": "12e28a91",
   "metadata": {},
   "outputs": [],
   "source": [
    "#lambdac -> lambda + pi\n",
    "d1 = {a+\"_\"+b:[] for a in \"D0 e lambdac lambda pi N_lambda pi_lambda\".split() for b in \"E px py pz p theta phi\".split()}\n",
    "#nucleon type that the lambda decays into (2212 or 2112 for p or n)\n",
    "d1[\"Ntype\"] =[]\n",
    "for i in range(100000):\n",
    "    d = {}\n",
    "    d[\"D0\"],d[\"e\"],d[\"lambdac\"] = ep_to_d0_e_lambdac.next(P0)\n",
    "    \n",
    "    \n",
    "    d[\"lambda\"],d[\"pi\"]= lambdac_to_lambdapi.next(d[\"lambdac\"])\n",
    "    \n",
    "    if(rand.uniform(0,1)<.64):\n",
    "        Ntype = 2212\n",
    "        d[\"N_lambda\"], d[\"pi_lambda\"] = lambda_decay_p.next(d['lambda'])\n",
    "    else :\n",
    "        Ntype= 2112\n",
    "        d[\"N_lambda\"], d[\"pi_lambda\"] = lambda_decay_n.next(d['lambda'])\n",
    "    d1[\"Ntype\"].append(Ntype)\n",
    "    \n",
    "    for key in d.keys():\n",
    "        d1[key + \"_E\"].append(d[key].E())\n",
    "        d1[key + \"_px\"].append(d[key].Px())\n",
    "        d1[key + \"_py\"].append(d[key].Py())\n",
    "        d1[key + \"_pz\"].append(d[key].Pz())\n",
    "        d1[key + \"_p\"].append(d[key].P())\n",
    "        d1[key + \"_theta\"].append(d[key].Theta())\n",
    "        d1[key + \"_phi\"].append(d[key].Phi())\n",
    "df_pi = pd.DataFrame(d1)"
   ]
  },
  {
   "cell_type": "code",
   "execution_count": 13,
   "id": "a7769235",
   "metadata": {},
   "outputs": [],
   "source": [
    "#lambdac -> lambda + mu + neutrino decay\n",
    "d1 = {a+\"_\"+b:[] for a in \"D0 e lambdac lambda numu mu N pi\".split() for b in \"E px py pz p theta phi\".split()}\n",
    "#nucleon type that the lambda decays into (2212 or 2112 for p or n)\n",
    "d1[\"Ntype\"] =[]\n",
    "for i in range(100000):\n",
    "    d = {}\n",
    "    d[\"D0\"],d[\"e\"],d[\"lambdac\"] = ep_to_d0_e_lambdac.next(P0)\n",
    "    \n",
    "    \n",
    "    d[\"lambda\"],d[\"numu\"],d[\"mu\"] = lambdac_to_lambdamu.next(d[\"lambdac\"])\n",
    "    \n",
    "    if(rand.uniform(0,1)<.64):\n",
    "        Ntype = 2212\n",
    "        d[\"N\"], d[\"pi\"] = lambda_decay_p.next(d['lambda'])\n",
    "    else :\n",
    "        Ntype= 2112\n",
    "        d[\"N\"], d[\"pi\"] = lambda_decay_n.next(d['lambda'])\n",
    "    d1[\"Ntype\"].append(Ntype)\n",
    "    \n",
    "    for key in d.keys():\n",
    "        d1[key + \"_E\"].append(d[key].E())\n",
    "        d1[key + \"_px\"].append(d[key].Px())\n",
    "        d1[key + \"_py\"].append(d[key].Py())\n",
    "        d1[key + \"_pz\"].append(d[key].Pz())\n",
    "        d1[key + \"_p\"].append(d[key].P())\n",
    "        d1[key + \"_theta\"].append(d[key].Theta())\n",
    "        d1[key + \"_phi\"].append(d[key].Phi())\n",
    "df = pd.DataFrame(d1)"
   ]
  },
  {
   "cell_type": "code",
   "execution_count": null,
   "id": "4b551390",
   "metadata": {},
   "outputs": [],
   "source": []
  },
  {
   "cell_type": "code",
   "execution_count": 31,
   "id": "16a881cd",
   "metadata": {},
   "outputs": [
    {
     "data": {
      "image/png": "[encoded data removed]",
      "text/plain": [
       "<Figure size 432x288 with 1 Axes>"
      ]
     },
     "metadata": {
      "needs_background": "light"
     },
     "output_type": "display_data"
    }
   ],
   "source": [
    "#check the distribution of the s13 variable\n",
    "\n",
    "#show the pdf for the s13 variable\n",
    "Ebeam=10\n",
    "mD0=1.86484\n",
    "mLambdaC=2.2849\n",
    "mp = 0.9383\n",
    "stot = (Ebeam+mp)**2-Ebeam**2\n",
    "x1 = mD0**2/stot\n",
    "x2 = 0.000511**2/stot\n",
    "x3 = mLambdaC**2/stot\n",
    "\n",
    "s13_min = (np.sqrt(x1)+np.sqrt(x3))**2\n",
    "s13_max =(1-np.sqrt(x2))**2\n",
    "s13 =np.linspace(s13_min,s13_max, 100)[1:-1]\n",
    "binwidth=s13[1]-s13[0]\n",
    "pdf = np.sqrt(((1+x2-s13)**2-4*x2)*((x1+x3-s13)**2-4*x1*x3))/s13\n",
    "#apply photoproduction correction\n",
    "pdf /=(1-s13)/2\n",
    "pdf /=sum(pdf)*binwidth\n",
    "plt.plot(s13, pdf, label=\"From formula\")\n",
    "\n",
    "plt.hist(df_pi.eval(f\"((D0_E+lambdac_E)**2-(D0_px+lambdac_px)**2-(D0_py+lambdac_py)**2-(D0_pz+lambdac_pz)**2)/{P0.M()**2}\"), bins=len(s13),density = True, label=\"generated events\")\n",
    "plt.hist(df.eval(f\"((D0_E+lambdac_E)**2-(D0_px+lambdac_px)**2-(D0_py+lambdac_py)**2-(D0_pz+lambdac_pz)**2)/{P0.M()**2}\"), bins=len(s13),density = True, label=\"generated events\")\n",
    "\n",
    "plt.legend()\n",
    "plt.xlabel(\"$s_{13}$ (dimensionless)\")\n",
    "plt.ylabel(\"# of events, normalized\")\n",
    "plt.show()"
   ]
  },
  {
   "cell_type": "code",
   "execution_count": 18,
   "id": "4ff48bc3",
   "metadata": {},
   "outputs": [
    {
     "data": {
      "text/plain": [
       "98"
      ]
     },
     "execution_count": 18,
     "metadata": {},
     "output_type": "execute_result"
    }
   ],
   "source": [
    "len(s13)"
   ]
  },
  {
   "cell_type": "code",
   "execution_count": 32,
   "id": "6fcc116d",
   "metadata": {},
   "outputs": [
    {
     "data": {
      "image/png": "[encoded data removed]",
      "text/plain": [
       "<Figure size 432x288 with 1 Axes>"
      ]
     },
     "metadata": {
      "needs_background": "light"
     },
     "output_type": "display_data"
    }
   ],
   "source": [
    "plt.hist(df.eval(f\"{Ebeam}-e_p\"), bins=100)\n",
    "plt.show()"
   ]
  },
  {
   "cell_type": "code",
   "execution_count": 33,
   "id": "791775b9",
   "metadata": {},
   "outputs": [],
   "source": [
    "#what fraction of the events have a muon that enters the acceptance of the fcal?\n",
    "#plot the theta distribution of the accepted events and all events.\n",
    "z_front = 1300\n",
    "detector_length=300\n",
    "detector_ymin = -220\n",
    "detector_ymax = -8\n",
    "uxmax = (detector_length/2)/z_front\n",
    "uymin = detector_ymin/z_front\n",
    "uymax = detector_ymax/z_front\n",
    "\n",
    "def acceptance_condition(particle_name):\n",
    "    return f\"{particle_name}_px/{particle_name}_pz<{uxmax} and {particle_name}_py/{particle_name}_pz>{uymin} and {particle_name}_py/{particle_name}_pz<{uymax}\""
   ]
  },
  {
   "cell_type": "code",
   "execution_count": 38,
   "id": "5ec557f2",
   "metadata": {},
   "outputs": [
    {
     "name": "stdout",
     "output_type": "stream",
     "text": [
      "0.11747 +- 0.0010181885832202205\n"
     ]
    },
    {
     "data": {
      "image/png": "[encoded data removed]",
      "text/plain": [
       "<Figure size 432x288 with 1 Axes>"
      ]
     },
     "metadata": {
      "needs_background": "light"
     },
     "output_type": "display_data"
    },
    {
     "name": "stdout",
     "output_type": "stream",
     "text": [
      "0.24947122342201938 +- 0.0022827229606703137\n"
     ]
    },
    {
     "data": {
      "image/png": "[encoded data removed]",
      "text/plain": [
       "<Figure size 432x288 with 1 Axes>"
      ]
     },
     "metadata": {
      "needs_background": "light"
     },
     "output_type": "display_data"
    },
    {
     "name": "stdout",
     "output_type": "stream",
     "text": [
      "0.24548916775925578 +- 0.0017003108373909754\n"
     ]
    },
    {
     "data": {
      "image/png": "[encoded data removed]",
      "text/plain": [
       "<Figure size 432x288 with 1 Axes>"
      ]
     },
     "metadata": {
      "needs_background": "light"
     },
     "output_type": "display_data"
    }
   ],
   "source": [
    "#muon acceptance\n",
    "tot_nb = 40\n",
    "\n",
    "f_D0_Kminus_piplus=.03946\n",
    "\n",
    "\n",
    "accepted = df.query(acceptance_condition(\"mu\"))\n",
    "num = len(accepted)\n",
    "denom = len(df)\n",
    "print(num/denom, \"+-\", np.sqrt(num*(denom-num)/denom**3))\n",
    "\n",
    "\n",
    "\n",
    "#label =f\"all events with muon:  {tot_nb*f_lamdba_c_mu:.2f} nb\"\n",
    "label = f\"$ep\\\\rightarrow (D_0\\\\rightarrow K^-\\\\pi^+) (\\\\Lambda_c^+\\\\rightarrow \\\\mu X)$:  {tot_nb*f_lambda_c_mu*f_D0_Kminus_piplus*1000:.0f} pb\"\n",
    "plt.hist(df.mu_theta*180/np.pi,bins=np.linspace(0,80,81), label=label)\n",
    "\n",
    "#label = f\"events with accepted muon\\n{tot_nb*f_lambda_c_mu*num/denom:.2f} nb\\n({num/denom*100:.1f}$\\pm${np.sqrt(num*(denom-num)/denom**3)*100:.1f}% of total)\"\n",
    "#label = f\"events with accepted muon:\\n{tot_nb*f_lambda_c_mu*num/denom:.2f} nb\"\n",
    "label = f\"... with accepted $\\\\mu$: {tot_nb*f_lambda_c_mu*f_D0_Kminus_piplus*num/denom*1000:.0f} pb\"\n",
    "plt.hist(accepted.mu_theta*180/np.pi,bins=np.linspace(0, 80, 81), label=label)\n",
    "plt.legend()\n",
    "plt.xlabel(\"$\\\\theta_\\mu$ [deg]\")\n",
    "plt.ylabel(\"# of events\")\n",
    "plt.show()\n",
    "\n",
    "#neutron acceptance:\n",
    "accepted = df.query(acceptance_condition(\"N\") +\" and Ntype==2112\")\n",
    "num = len(accepted)\n",
    "denom = len(df.query(\"Ntype==2112\"))\n",
    "print(num/denom, \"+-\", np.sqrt(num*(denom-num)/denom**3))\n",
    "\n",
    "\n",
    "\n",
    "\n",
    "label=f\"$ep\\\\rightarrow (D_0\\\\rightarrow K^-\\\\pi^+) (\\\\Lambda_c^+\\\\rightarrow n X)$: {tot_nb*f_D0_Kminus_piplus*f_lambdac_lambda*f_lambda_n*1000:.0f} pb\"\n",
    "plt.hist(df.query(\"Ntype==2112\").N_theta*180/np.pi,bins=np.linspace(0,80,81), label =label)\n",
    "#plt.hist(accepted.N_theta*180/np.pi,bins=np.linspace(0, 80, 81), label=f\"events with accepted neutron\\n({num/denom*100:.1f}$\\pm${np.sqrt(num*(denom-num)/denom**3)*100:.1f}% of total)\")\n",
    "plt.hist(accepted.N_theta*180/np.pi,bins=np.linspace(0, 80, 81), label=f\"... with accepted n: {tot_nb*f_D0_Kminus_piplus*f_lambdac_lambda*f_lambda_n*num/denom*1000:.0f} pb\")\n",
    "\n",
    "\n",
    "plt.legend()\n",
    "plt.xlabel(\"$\\\\theta_n$ [deg]\")\n",
    "plt.ylabel(\"# of events\")\n",
    "plt.show()\n",
    "\n",
    "#proton acceptance:\n",
    "accepted = df.query(acceptance_condition(\"N\") +\" and Ntype==2212\")\n",
    "num = len(accepted)\n",
    "denom = len(df.query(\"Ntype==2212\"))\n",
    "print(num/denom, \"+-\", np.sqrt(num*(denom-num)/denom**3))\n",
    "\n",
    "label =f\" $ep\\\\rightarrow (D_0\\\\rightarrow K^-\\\\pi^+) (\\\\Lambda_c^+\\\\rightarrow p X)$: {tot_nb*f_D0_Kminus_piplus*f_lambdac_lambda*f_lambda_p*1000:.0f} nb)\"\n",
    "plt.hist(df.query(\"Ntype==2212\").N_theta*180/np.pi,bins=np.linspace(0,80,81), label =label)\n",
    "#plt.hist(accepted.N_theta*180/np.pi,bins=np.linspace(0, 80, 81), label=f\"events with accepted proton\\n({num/denom*100:.1f}$\\pm${np.sqrt(num*(denom-num)/denom**3)*100:.1f}% of total)\")\n",
    "label=f\"... with accepted p: {num/denom*tot_nb*f_D0_Kminus_piplus*f_lambdac_lambda*f_lambda_p*1000:.0f} nb\"\n",
    "plt.hist(accepted.N_theta*180/np.pi,bins=np.linspace(0, 80, 81), label =label)\n",
    "plt.legend()\n",
    "plt.xlabel(\"$\\\\theta_p$ [deg]\")\n",
    "plt.ylabel(\"# of events\")\n",
    "plt.show()"
   ]
  },
  {
   "cell_type": "code",
   "execution_count": 36,
   "id": "6471af32",
   "metadata": {},
   "outputs": [
    {
     "data": {
      "text/plain": [
       "0.035"
      ]
     },
     "execution_count": 36,
     "metadata": {},
     "output_type": "execute_result"
    }
   ],
   "source": []
  },
  {
   "cell_type": "code",
   "execution_count": 39,
   "id": "cccab062",
   "metadata": {},
   "outputs": [
    {
     "name": "stdout",
     "output_type": "stream",
     "text": [
      "0.11747 +- 0.0010181885832202205\n",
      "0.00752 +- 0.0002731931477910821\n",
      "0.01205 +- 0.00034503329549479716\n"
     ]
    },
    {
     "data": {
      "image/png": "[encoded data removed]",
      "text/plain": [
       "<Figure size 432x288 with 1 Axes>"
      ]
     },
     "metadata": {
      "needs_background": "light"
     },
     "output_type": "display_data"
    }
   ],
   "source": [
    "#plot events in which both the muon and the nucleon are within acceptance.\n",
    "accepted_mu = df.query(acceptance_condition(\"mu\"))\n",
    "num = len(accepted_mu)\n",
    "denom = len(df)\n",
    "print(num/denom, \"+-\", np.sqrt(num*(denom-num)/denom**3))\n",
    "\n",
    "plt.hist(df.mu_theta*180/np.pi,bins=np.linspace(0,80,81), label =\"all events\")\n",
    "plt.hist(accepted_mu.mu_theta*180/np.pi,bins=np.linspace(0, 80, 81), label=f\"events with accepted $\\mu$\\n({num/denom*100:.1f}$\\pm${np.sqrt(num*(denom-num)/denom**3)*100:.1f}% of total)\")\n",
    "\n",
    "accepted_mu_n = df.query(acceptance_condition(\"mu\")+ \" and \"+ acceptance_condition(\"N\") + \" and Ntype==2112\")\n",
    "num = len(accepted_mu_n)\n",
    "print(num/denom, \"+-\", np.sqrt(num*(denom-num)/denom**3))\n",
    "plt.hist(accepted_mu_n.mu_theta*180/np.pi,bins=np.linspace(0, 80, 81), \n",
    "         label=f\"events with accepted $\\mu$, n\\n({num/denom*100:.1f}$\\pm${np.sqrt(num*(denom-num)/denom**3)*100:.1f}% of total)\",\n",
    "          histtype='step')\n",
    "\n",
    "accepted_mu_p = df.query(acceptance_condition(\"mu\")+ \" and \"+ acceptance_condition(\"N\") + \" and Ntype==2212\")\n",
    "num = len(accepted_mu_p)\n",
    "print(num/denom, \"+-\", np.sqrt(num*(denom-num)/denom**3))\n",
    "plt.hist(accepted_mu_p.mu_theta*180/np.pi,bins=np.linspace(0, 80, 81), \n",
    "         label=f\"events with accepted $\\mu$, p\\n({num/denom*100:.1f}$\\pm${np.sqrt(num*(denom-num)/denom**3)*100:.1f}% of total)\",\n",
    "          histtype='step')\n",
    "\n",
    "accepted_mu_p_or_n = df.query(acceptance_condition(\"mu\")+ \" and \"+ acceptance_condition(\"N\"))\n",
    "num = len(accepted_mu_p_or_n)\n",
    "\n",
    "plt.hist(accepted_mu_p.mu_theta*180/np.pi,bins=np.linspace(0, 80, 81), \n",
    "         label=f\"events with accepted $\\mu$ + (p or n)\\n({num/denom*100:.1f}$\\pm${np.sqrt(num*(denom-num)/denom**3)*100:.1f}% of total)\",\n",
    "          histtype='step')\n",
    "\n",
    "plt.legend(fontsize=12)\n",
    "plt.xlabel(\"$\\\\theta_\\mu$ [deg]\")\n",
    "plt.ylabel(\"# of events\")\n",
    "plt.show()"
   ]
  },
  {
   "cell_type": "code",
   "execution_count": 40,
   "id": "caf40e0b",
   "metadata": {},
   "outputs": [
    {
     "name": "stdout",
     "output_type": "stream",
     "text": [
      "sigma (mu+)= 1.4000000000000001\n",
      "sigma (mu+, accepted)= 0.16240000000000002\n",
      "sigma (mu+, n, accepted)= 0.009800000000000001\n",
      "sigma (mu+, p, accepted)= 0.016800000000000002\n",
      "sigma (mu+, p or n, accepted)= 0.026600000000000002\n"
     ]
    }
   ],
   "source": [
    "nb_tot=40\n",
    "\n",
    "f_lamdba_c_mu = 0.035\n",
    "f_lamdba_c_e = 0.036\n",
    "\n",
    "print(\"sigma (mu+)=\", nb_tot*f_lamdba_c_mu)\n",
    "print(\"sigma (mu+, accepted)=\", nb_tot*f_lamdba_c_mu*.116)\n",
    "print(\"sigma (mu+, n, accepted)=\", nb_tot*f_lamdba_c_mu*.007)\n",
    "print(\"sigma (mu+, p, accepted)=\", nb_tot*f_lamdba_c_mu*.012)\n",
    "print(\"sigma (mu+, p or n, accepted)=\", nb_tot*f_lamdba_c_mu*.019)"
   ]
  },
  {
   "cell_type": "code",
   "execution_count": 42,
   "id": "2c8826c3",
   "metadata": {},
   "outputs": [],
   "source": [
    "def toLund(df, filename):\n",
    "    with open(filename, \"w\") as f:\n",
    "        for i in range(len(df)):\n",
    "#             1 Number of particles\n",
    "#             2 Mass number of the target (UD)\n",
    "#             3 Atomic number oif the target (UD)\n",
    "#             4 Target polarization (UD)\n",
    "#             5 Beam Polarization\n",
    "#             6 Beam type, electron=11, photon=22” (UD)\n",
    "#             7 Beam energy (GeV) (UD)\n",
    "#             8 Interacted nucleon ID (2212 or 2112) (UD)\n",
    "#             9 Process ID (UD)\n",
    "#             10 Event weight (UD)\n",
    "\n",
    "            #for now just include the electron and the muon\n",
    "            print(2, 1, 1,0, 0, 11,Ebeam,2212, 0, 1, file=f)\n",
    "            for j,(particle_name, pid) in enumerate([(\"e\", 11), (\"mu\", -13)]):\n",
    "                particle = pdg.GetParticle(pid)\n",
    "                print(j+1, particle.Lifetime()/1e9, 1, pid, 0,0, \n",
    "                      df[particle_name + \"_\"+\"px\"][i], \n",
    "                      df[particle_name + \"_\"+\"py\"][i],\n",
    "                      df[particle_name + \"_\"+\"pz\"][i],\n",
    "                      df[particle_name + \"_\"+\"E\"][i],\n",
    "                      particle.Mass(), 0,0,0, file=f)"
   ]
  },
  {
   "cell_type": "code",
   "execution_count": 43,
   "id": "53b0af1a",
   "metadata": {},
   "outputs": [],
   "source": [
    "toLund(df, \"100kemufromlambdac.dat\")"
   ]
  },
  {
   "cell_type": "code",
   "execution_count": null,
   "id": "da24c4dc",
   "metadata": {},
   "outputs": [],
   "source": []
  }
 ],
 "metadata": {
  "kernelspec": {
   "display_name": "Python 3 (ipykernel)",
   "language": "python",
   "name": "python3"
  },
  "language_info": {
   "codemirror_mode": {
    "name": "ipython",
    "version": 3
   },
   "file_extension": ".py",
   "mimetype": "text/x-python",
   "name": "python",
   "nbconvert_exporter": "python",
   "pygments_lexer": "ipython3",
   "version": "3.9.12"
  }
 },
 "nbformat": 4,
 "nbformat_minor": 5
}
